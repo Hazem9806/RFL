{
 "metadata": {
  "language_info": {
   "codemirror_mode": {
    "name": "ipython",
    "version": 3
   },
   "file_extension": ".py",
   "mimetype": "text/x-python",
   "name": "python",
   "nbconvert_exporter": "python",
   "pygments_lexer": "ipython3",
   "version": "3.8.5-final"
  },
  "orig_nbformat": 2,
  "kernelspec": {
   "name": "python3",
   "display_name": "Python 3",
   "language": "python"
  }
 },
 "nbformat": 4,
 "nbformat_minor": 2,
 "cells": [
  {
   "cell_type": "code",
   "execution_count": 98,
   "metadata": {},
   "outputs": [],
   "source": [
    "import torch ## import pytorch\n",
    "import numpy as np ## import of numpy\n",
    "#from torch.utils.tensorboard import SummaryWriter"
   ]
  },
  {
   "cell_type": "code",
   "execution_count": 99,
   "metadata": {},
   "outputs": [
    {
     "output_type": "stream",
     "name": "stdout",
     "text": [
      "(2, 2, 3)\n(3,)\ntorch.Size([3])\ntorch.FloatTensor\ntorch.Size([1, 1, 3])\n"
     ]
    }
   ],
   "source": [
    "## Vector 1D:\n",
    "## Matrix 2D:\n",
    "## Tensor ND: (1-N)\n",
    "## A pytorch tensor (random)\n",
    "vector = np.array([[[1,2,3], [1,2,3]], [[1,2,3], [1,2,3]]])\n",
    "print(vector.shape)\n",
    "\n",
    "\n",
    "print(ten_n.shape)\n",
    "ten = torch.tensor([1., 2., 3.]) ## 1D tensor\n",
    "print(ten.shape)\n",
    "print(ten.type())\n",
    "a = torch.FloatTensor([[[1, 2, 3]]])\n",
    "print(a.shape)\n"
   ]
  },
  {
   "cell_type": "code",
   "execution_count": 100,
   "metadata": {},
   "outputs": [
    {
     "output_type": "stream",
     "name": "stdout",
     "text": [
      "tensor([[[0., 0., 0.]]])\ntensor([[[0., 0., 0.]]])\n"
     ]
    }
   ],
   "source": [
    "## clear content of a tensor (without altering the tensor) (Functional, makes a copy\n",
    "## of the tensor)\n",
    "# b = torch.zeros_like(a) ## \n",
    "# print(a)\n",
    "# print(b)\n",
    "# print(a)\n",
    "# print()\n",
    "## clear content of a tensor (alter the tensor)\n",
    "a.zero_()\n",
    "print(a)\n",
    "print(a)"
   ]
  },
  {
   "cell_type": "code",
   "execution_count": 101,
   "metadata": {},
   "outputs": [
    {
     "output_type": "execute_result",
     "data": {
      "text/plain": [
       "tensor([[-0.2350,  0.4726],\n",
       "        [ 1.1150, -1.0532],\n",
       "        [ 1.0129, -2.2621]])"
      ]
     },
     "metadata": {},
     "execution_count": 101
    }
   ],
   "source": [
    "## we make a numpy array\n",
    "a_numpy = np.random.normal(loc=0, scale=1.0, size=(3,2)) ## create a random uniform distrib (mean=0, std=1.0 size=(3,2))\n",
    "\n",
    "## convert it into pytorch tensor\n",
    "a_tensor = torch.tensor(a_numpy, dtype=torch.float)\n",
    "a_tensor"
   ]
  },
  {
   "cell_type": "code",
   "execution_count": 102,
   "metadata": {},
   "outputs": [
    {
     "output_type": "stream",
     "name": "stdout",
     "text": [
      "tensor(0.)\ntensor([ 1.,  2., -3.])\ntensor(0.)\ntorch.return_types.mode(\nvalues=tensor(-3.),\nindices=tensor(2))\ntensor(1.)\ntensor([1., 2., 3.])\n"
     ]
    }
   ],
   "source": [
    "## tensor operations\n",
    "a = torch.tensor([1., 2., -3.])\n",
    "print(a.sum())\n",
    "print(a)\n",
    "print(a.mean())\n",
    "print(a.mode())\n",
    "print(a.median())\n",
    "print(a.abs())\n",
    "#print(a.)"
   ]
  },
  {
   "cell_type": "code",
   "execution_count": 103,
   "metadata": {},
   "outputs": [
    {
     "output_type": "stream",
     "name": "stdout",
     "text": [
      "tensor([ 1.,  2., -3.])\ncpu\ntensor([ 1.,  2., -3.], device='cuda:0')\ncuda:0\n"
     ]
    }
   ],
   "source": [
    "## GPU tensors\n",
    "print(a) ## this is a cpu tensor when you make it\n",
    "print(a.device) ## to see what the device that tensor assigned to\n",
    "print(a.to('cuda')) ## assign to the GPU\n",
    "print(a.to('cuda').device)"
   ]
  },
  {
   "cell_type": "code",
   "execution_count": 104,
   "metadata": {},
   "outputs": [
    {
     "output_type": "stream",
     "name": "stdout",
     "text": [
      "True\nFalse\n"
     ]
    },
    {
     "output_type": "execute_result",
     "data": {
      "text/plain": [
       "'\\nwith torch.no_grad():\\n    ## execute you model\\n'"
      ]
     },
     "metadata": {},
     "execution_count": 104
    }
   ],
   "source": [
    "## tensor gradients\n",
    "v1 = torch.tensor([1.0, 2.0]) ## does not required gradient computation\n",
    "v2 = torch.tensor([3.1, 1.0], requires_grad=True) ## require gradient computation\n",
    "\n",
    "## operate on the tensors\n",
    "v_sum = v1 + v2 ## computation graph step-1\n",
    "v_res = (v_sum*2).sum() ## computation graph step-2\n",
    "#print(v_sum)\n",
    "#print(v_res)\n",
    "\n",
    "## user made tensors are leafs in  a graph\n",
    "## but intermediate operations are not\n",
    "print(v1.is_leaf)\n",
    "print(v_sum.is_leaf)\n",
    "\n",
    "'''\n",
    "with torch.no_grad():\n",
    "    ## execute you model\n",
    "'''\n",
    "## are gradients required\n",
    "#print(v1.requires_grad)\n",
    "#print(v2.grad)"
   ]
  },
  {
   "cell_type": "code",
   "execution_count": 105,
   "metadata": {},
   "outputs": [
    {
     "output_type": "execute_result",
     "data": {
      "text/plain": [
       "tensor([-2.4022, -1.0323, -3.6486, -1.0001, -1.1885], grad_fn=<AddBackward0>)"
      ]
     },
     "metadata": {},
     "execution_count": 105
    }
   ],
   "source": [
    "## NN blocks\n",
    "import torch.nn as nn\n",
    "linear_layer = nn.Linear(3, 5, bias=True) ## y = x(A)^T + b\n",
    "## A weight matrix and b = biases\n",
    "inp = torch.tensor([1, 2, 3], dtype=torch.float)\n",
    "linear_layer(inp)"
   ]
  },
  {
   "cell_type": "code",
   "execution_count": 106,
   "metadata": {},
   "outputs": [
    {
     "output_type": "stream",
     "name": "stdout",
     "text": [
      "<generator object Module.parameters at 0x7f513cccfc80>\nParameter containing:\ntensor([[-0.2714, -0.3254, -0.5139],\n        [ 0.2984, -0.1070, -0.4282],\n        [-0.5565, -0.5276, -0.5051],\n        [ 0.4509, -0.4152, -0.0419],\n        [-0.4561, -0.0479, -0.2294]], requires_grad=True)\nParameter containing:\ntensor([ 0.0616,  0.1677, -0.5217, -0.4948,  0.0515], requires_grad=True)\n"
     ]
    }
   ],
   "source": [
    "## layer parameter\n",
    "print(linear_layer.parameters()) ## return a generator that yields the layer parameter (A, b); A: 3x5 b: 3\n",
    "for i in linear_layer.parameters():\n",
    "    print(i)"
   ]
  },
  {
   "cell_type": "code",
   "execution_count": 115,
   "metadata": {},
   "outputs": [
    {
     "output_type": "stream",
     "name": "stdout",
     "text": [
      "OrderedDict([('weight', tensor([[-0.2714, -0.3254, -0.5139],\n        [ 0.2984, -0.1070, -0.4282],\n        [-0.5565, -0.5276, -0.5051],\n        [ 0.4509, -0.4152, -0.0419],\n        [-0.4561, -0.0479, -0.2294]])), ('bias', tensor([ 0.0616,  0.1677, -0.5217, -0.4948,  0.0515]))])\n"
     ]
    }
   ],
   "source": [
    "## layer parameter\n",
    "print(linear_layer.state_dict()) ## parameters and biases as a dictionary"
   ]
  },
  {
   "cell_type": "code",
   "execution_count": 116,
   "metadata": {},
   "outputs": [
    {
     "output_type": "execute_result",
     "data": {
      "text/plain": [
       "Sequential(\n",
       "  (0): Linear(in_features=2, out_features=5, bias=True)\n",
       "  (1): ReLU()\n",
       "  (2): Linear(in_features=5, out_features=20, bias=True)\n",
       "  (3): ReLU()\n",
       "  (4): Linear(in_features=20, out_features=10, bias=True)\n",
       "  (5): ReLU()\n",
       "  (6): Dropout(p=0.3, inplace=False)\n",
       "  (7): Softmax(dim=1)\n",
       ")"
      ]
     },
     "metadata": {},
     "execution_count": 116
    }
   ],
   "source": [
    "## A simple ANN model\n",
    "model = nn.Sequential( ### stack layers to make a neural network graph\n",
    "    nn.Linear(2,5), ## first layer\n",
    "    nn.ReLU(), ## first activation function\n",
    "    nn.Linear(5,20),\n",
    "    nn.ReLU(),\n",
    "    nn.Linear(20,10),\n",
    "    nn.ReLU(),\n",
    "    nn.Dropout(p=0.3),\n",
    "    nn.Softmax(dim=1)\n",
    ")\n",
    "model"
   ]
  },
  {
   "cell_type": "code",
   "execution_count": 118,
   "metadata": {},
   "outputs": [
    {
     "output_type": "execute_result",
     "data": {
      "text/plain": [
       "tensor([[0.0851, 0.0851, 0.0851, 0.0915, 0.1859, 0.0851, 0.0851, 0.1269, 0.0851,\n",
       "         0.0851]], grad_fn=<SoftmaxBackward>)"
      ]
     },
     "metadata": {},
     "execution_count": 118
    }
   ],
   "source": [
    "inp = torch.FloatTensor([[1,2]]) ## dummy inputs\n",
    "model(inp) ## call forward on the network"
   ]
  },
  {
   "cell_type": "code",
   "execution_count": 110,
   "metadata": {},
   "outputs": [],
   "source": [
    "## model construction by subclassing\n",
    "class Model(nn.Module):\n",
    "    def __init__(self, input_shape, output_shape, drop=0.3):\n",
    "        super(Model, self).__init__()\n",
    "        self.model = nn.Sequential(\n",
    "                        nn.Linear(2,5),\n",
    "                        nn.ReLU(),\n",
    "                        nn.Linear(5,20),\n",
    "                        nn.ReLU(),\n",
    "                        nn.Linear(20,1),\n",
    "                        #nn.ReLU(),\n",
    "                        #nn.Dropout(p=0.3),\n",
    "                        #nn.Softmax(dim=1)\n",
    "                        )\n",
    "    ## forward pass of the NN\n",
    "    def forward(self, x):\n",
    "        return self.model(x)\n"
   ]
  },
  {
   "cell_type": "code",
   "execution_count": 111,
   "metadata": {},
   "outputs": [
    {
     "output_type": "stream",
     "name": "stdout",
     "text": [
      "Model(\n  (model): Sequential(\n    (0): Linear(in_features=2, out_features=5, bias=True)\n    (1): ReLU()\n    (2): Linear(in_features=5, out_features=20, bias=True)\n    (3): ReLU()\n    (4): Linear(in_features=20, out_features=1, bias=True)\n  )\n)\ntensor([[-0.0265]], grad_fn=<AddmmBackward>)\n"
     ]
    }
   ],
   "source": [
    "## construct the model\n",
    "net = Model(2, 3)\n",
    "inp = torch.FloatTensor([[2, 3]])\n",
    "out = net(inp)\n",
    "print(net)\n",
    "print(out)"
   ]
  },
  {
   "cell_type": "code",
   "execution_count": 112,
   "metadata": {},
   "outputs": [],
   "source": [
    "optimizer = torch.optim.SGD(net.parameters(), lr=0.001)"
   ]
  },
  {
   "cell_type": "code",
   "execution_count": 113,
   "metadata": {},
   "outputs": [],
   "source": [
    "## make some random data\n",
    "inp_batch = torch.normal(0, 1, (1000, 2))\n",
    "inp_batch.size()\n",
    "tgt_batch = torch.normal(0, 1, (1000, 1))"
   ]
  },
  {
   "cell_type": "code",
   "execution_count": 114,
   "metadata": {
    "tags": []
   },
   "outputs": [
    {
     "output_type": "error",
     "ename": "NameError",
     "evalue": "name 'SummaryWriter' is not defined",
     "traceback": [
      "\u001b[0;31m---------------------------------------------------------------------------\u001b[0m",
      "\u001b[0;31mNameError\u001b[0m                                 Traceback (most recent call last)",
      "\u001b[0;32m<ipython-input-114-a9020858fb2c>\u001b[0m in \u001b[0;36m<module>\u001b[0;34m\u001b[0m\n\u001b[0;32m----> 1\u001b[0;31m \u001b[0mwriter\u001b[0m \u001b[0;34m=\u001b[0m \u001b[0mSummaryWriter\u001b[0m\u001b[0;34m(\u001b[0m\u001b[0;34m)\u001b[0m\u001b[0;34m\u001b[0m\u001b[0;34m\u001b[0m\u001b[0m\n\u001b[0m\u001b[1;32m      2\u001b[0m \u001b[0;32mfor\u001b[0m \u001b[0me\u001b[0m \u001b[0;32min\u001b[0m \u001b[0mrange\u001b[0m\u001b[0;34m(\u001b[0m\u001b[0;36m100\u001b[0m\u001b[0;34m)\u001b[0m\u001b[0;34m:\u001b[0m\u001b[0;34m\u001b[0m\u001b[0;34m\u001b[0m\u001b[0m\n\u001b[1;32m      3\u001b[0m     \u001b[0mepoch_loss\u001b[0m \u001b[0;34m=\u001b[0m \u001b[0mlist\u001b[0m\u001b[0;34m(\u001b[0m\u001b[0;34m)\u001b[0m\u001b[0;34m\u001b[0m\u001b[0;34m\u001b[0m\u001b[0m\n\u001b[1;32m      4\u001b[0m     \u001b[0;32mfor\u001b[0m \u001b[0mi\u001b[0m \u001b[0;32min\u001b[0m \u001b[0mrange\u001b[0m\u001b[0;34m(\u001b[0m\u001b[0;36m0\u001b[0m\u001b[0;34m,\u001b[0m \u001b[0minp_batch\u001b[0m\u001b[0;34m.\u001b[0m\u001b[0mshape\u001b[0m\u001b[0;34m[\u001b[0m\u001b[0;36m0\u001b[0m\u001b[0;34m]\u001b[0m\u001b[0;34m,\u001b[0m \u001b[0;36m10\u001b[0m\u001b[0;34m)\u001b[0m\u001b[0;34m:\u001b[0m\u001b[0;34m\u001b[0m\u001b[0;34m\u001b[0m\u001b[0m\n\u001b[1;32m      5\u001b[0m         \u001b[0minp\u001b[0m \u001b[0;34m=\u001b[0m \u001b[0minp_batch\u001b[0m\u001b[0;34m[\u001b[0m\u001b[0mi\u001b[0m\u001b[0;34m:\u001b[0m\u001b[0mi\u001b[0m\u001b[0;34m+\u001b[0m\u001b[0;36m10\u001b[0m\u001b[0;34m]\u001b[0m\u001b[0;34m\u001b[0m\u001b[0;34m\u001b[0m\u001b[0m\n",
      "\u001b[0;31mNameError\u001b[0m: name 'SummaryWriter' is not defined"
     ]
    }
   ],
   "source": [
    "writer = SummaryWriter()\n",
    "for e in range(100):\n",
    "    epoch_loss = list()\n",
    "    for i in range(0, inp_batch.shape[0], 10):\n",
    "        inp = inp_batch[i:i+10]\n",
    "        tgt = tgt_batch[i:i+10]\n",
    "        out = net(inp)\n",
    "        #print(out.shape)\n",
    "        optimizer.zero_grad()\n",
    "        loss = nn.MSELoss()(out, tgt)\n",
    "        loss.backward()\n",
    "        optimizer.step()\n",
    "        epoch_loss.append(loss.item())\n",
    "        writer.add_scalar(\"error\", loss.item())\n",
    "    print(np.array(np.mean(epoch_loss)))\n",
    "writer.close()\n",
    "\n",
    "    "
   ]
  }
 ]
}