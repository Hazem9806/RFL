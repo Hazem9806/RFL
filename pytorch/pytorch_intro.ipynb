{
 "metadata": {
  "language_info": {
   "codemirror_mode": {
    "name": "ipython",
    "version": 3
   },
   "file_extension": ".py",
   "mimetype": "text/x-python",
   "name": "python",
   "nbconvert_exporter": "python",
   "pygments_lexer": "ipython3",
   "version": "3.8.5-final"
  },
  "orig_nbformat": 2,
  "kernelspec": {
   "name": "python3",
   "display_name": "Python 3.8.5 64-bit",
   "metadata": {
    "interpreter": {
     "hash": "1de01a1b2b639b2ab9bc9c9a713ded5cb1ecc68bccd08a4a9bdbc4634151189f"
    }
   }
  }
 },
 "nbformat": 4,
 "nbformat_minor": 2,
 "cells": [
  {
   "cell_type": "code",
   "execution_count": null,
   "metadata": {},
   "outputs": [],
   "source": [
    "import torch\n",
    "import numpy as np"
   ]
  },
  {
   "cell_type": "code",
   "execution_count": null,
   "metadata": {},
   "outputs": [],
   "source": [
    "## A pytorch tensor (random)\n",
    "a = torch.FloatTensor(3, 2)\n",
    "a\n"
   ]
  },
  {
   "cell_type": "code",
   "execution_count": null,
   "metadata": {},
   "outputs": [],
   "source": [
    "## clear content of a tensor (without altering the tensor) (Functional, makes a copy\n",
    "## of the tensor)\n",
    "b = torch.zeros_like(a)\n",
    "print(a)\n",
    "print(b)\n",
    "## clear content of a tensor (alter the tensor)\n",
    "a.zero_()\n",
    "print(a)"
   ]
  },
  {
   "cell_type": "code",
   "execution_count": null,
   "metadata": {},
   "outputs": [],
   "source": [
    "a_numpy = np.random.uniform((3,2))\n",
    "a_tensor = torch.tensor(a_numpy, dtype=torch.float32)\n",
    "a_tensor"
   ]
  },
  {
   "cell_type": "code",
   "execution_count": null,
   "metadata": {},
   "outputs": [],
   "source": [
    "## tensor operations\n",
    "a = torch.tensor([1., 2., 3.])\n",
    "print(a.sum())\n",
    "print(a.mean())\n",
    "print(a.mode())\n",
    "print(a.median())\n",
    "\n"
   ]
  },
  {
   "cell_type": "code",
   "execution_count": null,
   "metadata": {},
   "outputs": [],
   "source": [
    "## GPU tensors\n",
    "print(a)\n",
    "print(a.device)\n",
    "print(a.to('cuda'))\n",
    "print(a.to('cuda').device)"
   ]
  },
  {
   "cell_type": "code",
   "execution_count": null,
   "metadata": {},
   "outputs": [],
   "source": [
    "## tensor gradients\n",
    "v1 = torch.tensor([1.0, 2.0])\n",
    "v2 = torch.tensor([3.1, 1.0], requires_grad=True)\n",
    "\n",
    "## operate on the tensors\n",
    "v_sum = v1 + v2\n",
    "v_res = (v_sum*2).sum()\n",
    "print(v_sum)\n",
    "print(v_res)\n",
    "\n",
    "## user made tensors are leafs in  a graph\n",
    "## but intermediate operations are not\n",
    "print(v1.is_leaf)\n",
    "print(v_sum.is_leaf)\n",
    "\n",
    "## are gradients required\n",
    "print(v1.requires_grad)\n",
    "print(v2.grad)"
   ]
  },
  {
   "cell_type": "code",
   "execution_count": null,
   "metadata": {},
   "outputs": [],
   "source": [
    "## NN blocks\n",
    "import torch.nn as nn\n",
    "linear_layer = nn.Linear(3, 5, bias=False)\n",
    "inp = torch.tensor([1, 2, 3], dtype=torch.float)\n",
    "linear_layer(inp)"
   ]
  },
  {
   "cell_type": "code",
   "execution_count": null,
   "metadata": {},
   "outputs": [],
   "source": [
    "## layer parameter\n",
    "for i in linear_layer.parameters():\n",
    "    print(i)"
   ]
  },
  {
   "cell_type": "code",
   "execution_count": null,
   "metadata": {},
   "outputs": [],
   "source": [
    "## layer parameter\n",
    "print(linear_layer.state_dict())"
   ]
  },
  {
   "cell_type": "code",
   "execution_count": null,
   "metadata": {},
   "outputs": [],
   "source": [
    "## A simple ANN model\n",
    "model = nn.Sequential(\n",
    "    nn.Linear(2,5),\n",
    "    nn.ReLU(),\n",
    "    nn.Linear(5,20),\n",
    "    nn.ReLU(),\n",
    "    nn.Linear(20,10),\n",
    "    nn.ReLU(),\n",
    "    nn.Dropout(p=0.3),\n",
    "    nn.Softmax(dim=1)\n",
    ")\n",
    "model"
   ]
  },
  {
   "cell_type": "code",
   "execution_count": null,
   "metadata": {},
   "outputs": [],
   "source": [
    "model(torch.FloatTensor([[1,2]]))"
   ]
  },
  {
   "cell_type": "code",
   "execution_count": null,
   "metadata": {},
   "outputs": [],
   "source": [
    "## model construction by subclassing\n",
    "class Model(nn.Module):\n",
    "    def __init__(self, input_shape, output_shape, drop=0.3):\n",
    "        super(Model, self).__init__()\n",
    "        self.model = nn.Sequential(\n",
    "                        nn.Linear(2,5),\n",
    "                        nn.ReLU(),\n",
    "                        nn.Linear(5,20),\n",
    "                        nn.ReLU(),\n",
    "                        nn.Linear(20,10),\n",
    "                        nn.ReLU(),\n",
    "                        nn.Dropout(p=0.3),\n",
    "                        nn.Softmax(dim=1)\n",
    "                        )\n",
    "    ## forward pass of the NN\n",
    "    def forward(self, x):\n",
    "        return self.model(x)\n",
    "        "
   ]
  },
  {
   "cell_type": "code",
   "execution_count": null,
   "metadata": {},
   "outputs": [],
   "source": [
    "## construct the model\n",
    "net = Model(2, 3)\n",
    "inp = torch.FloatTensor([[2, 3]])\n",
    "out = net(inp)\n",
    "print(net)\n",
    "print(out)"
   ]
  },
  {
   "cell_type": "code",
   "execution_count": null,
   "metadata": {},
   "outputs": [],
   "source": []
  }
 ]
}