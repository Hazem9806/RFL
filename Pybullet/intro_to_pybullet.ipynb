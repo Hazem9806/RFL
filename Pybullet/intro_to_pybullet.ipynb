{
 "metadata": {
  "language_info": {
   "codemirror_mode": {
    "name": "ipython",
    "version": 3
   },
   "file_extension": ".py",
   "mimetype": "text/x-python",
   "name": "python",
   "nbconvert_exporter": "python",
   "pygments_lexer": "ipython3",
   "version": "3.8.5-final"
  },
  "orig_nbformat": 2,
  "kernelspec": {
   "name": "python3",
   "display_name": "Python 3.8.5 64-bit",
   "metadata": {
    "interpreter": {
     "hash": "1de01a1b2b639b2ab9bc9c9a713ded5cb1ecc68bccd08a4a9bdbc4634151189f"
    }
   }
  }
 },
 "nbformat": 4,
 "nbformat_minor": 2,
 "cells": [
  {
   "cell_type": "code",
   "execution_count": 1,
   "metadata": {},
   "outputs": [],
   "source": [
    "## https://www.etedal.net/2020/04/pybullet-panda.html"
   ]
  },
  {
   "cell_type": "code",
   "execution_count": 2,
   "metadata": {},
   "outputs": [],
   "source": [
    "import os\n",
    "import pybullet as p\n",
    "import pybullet_data\n",
    "\n",
    "import math\n",
    "import time"
   ]
  },
  {
   "cell_type": "code",
   "execution_count": 3,
   "metadata": {},
   "outputs": [],
   "source": [
    "p.connect(p.GUI)\n",
    "urdfRootPath=pybullet_data.getDataPath()\n",
    "kukaId = p.loadURDF(os.path.join(urdfRootPath, \"kuka_iiwa/model.urdf\"),useFixedBase=True)"
   ]
  },
  {
   "cell_type": "code",
   "execution_count": 4,
   "metadata": {},
   "outputs": [],
   "source": [
    "tableUid = p.loadURDF(os.path.join(urdfRootPath, \"table/table.urdf\"),basePosition=[0.5,0,-0.65])\n",
    "\n",
    "trayUid = p.loadURDF(os.path.join(urdfRootPath, \"tray/traybox.urdf\"),basePosition=[0.65,0,0])\n",
    "\n",
    "objectUid = p.loadURDF(os.path.join(urdfRootPath, \"random_urdfs/000/000.urdf\"), basePosition=[0.7,0,0.1])\n"
   ]
  },
  {
   "cell_type": "code",
   "execution_count": 5,
   "metadata": {},
   "outputs": [],
   "source": [
    "p.setGravity(0,0,-10)"
   ]
  },
  {
   "cell_type": "code",
   "execution_count": 8,
   "metadata": {
    "tags": []
   },
   "outputs": [],
   "source": [
    "while True:\n",
    "    ## perform a single forward dynamic step in the simulation world\n",
    "    p.stepSimulation() \n",
    "    ## time step in the simulation (simulation frequency)\n",
    "    time.sleep(1./240.)\n",
    "p.disconnect()"
   ]
  }
 ]
}