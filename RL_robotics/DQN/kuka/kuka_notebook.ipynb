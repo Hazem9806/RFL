{
 "metadata": {
  "language_info": {
   "codemirror_mode": {
    "name": "ipython",
    "version": 3
   },
   "file_extension": ".py",
   "mimetype": "text/x-python",
   "name": "python",
   "nbconvert_exporter": "python",
   "pygments_lexer": "ipython3",
   "version": "3.8.5-final"
  },
  "orig_nbformat": 2,
  "kernelspec": {
   "name": "python3",
   "display_name": "Python 3",
   "language": "python"
  }
 },
 "nbformat": 4,
 "nbformat_minor": 2,
 "cells": [
  {
   "cell_type": "code",
   "execution_count": 1,
   "metadata": {},
   "outputs": [
    {
     "output_type": "stream",
     "name": "stdout",
     "text": [
      "current_dir=/home/akaaku13m/my_env/robot_lab_1/lib/python3.8/site-packages/pybullet_envs/bullet\n"
     ]
    }
   ],
   "source": [
    "## do the necessary imports\n",
    "import torch\n",
    "import torch.nn as nn\n",
    "import torch.optim as optim\n",
    "import gym\n",
    "import numpy as np\n",
    "import cv2\n",
    "import matplotlib.pyplot as plt\n",
    "\n",
    "import dqn_model\n",
    "\n",
    "from collections import deque\n",
    "import random\n",
    "import os\n",
    "\n",
    "from pybullet_envs.bullet.kuka_diverse_object_gym_env import KukaDiverseObjectEnv\n",
    "from gym import spaces\n",
    "import pybullet as p"
   ]
  },
  {
   "source": [
    "# KUKA Deep Q-Learning Example\n",
    "\n",
    "## Task\n",
    "The task is to train a kuka manipulator to grasp opjects. For this task the agent is the KUKA manipulator with 7 possible actions. The actions are the 2 x axis velocities, 2 y axis velocities, 1 end effector vertical orientation angle and 1 No movement. For each action, the manipulator will automatically move down (height hack). Each discrete action is as follows,\n",
    "\n",
    "$x = (+/-)dv$, $y = (+/-)dv$, $z = -dv_z$, $a = (+/-)da$\n",
    "\n",
    "## Action space\n",
    "The manipulator is originally in the continuous action space where the continuous actions are: offset in XYZ directions and vertical angle offset (radian) and grap angle (radian). So the 7 discrete actions must be converted to continuous action set:\n",
    "\n",
    "\n",
    "continuous_actions $= [dx, dy, dz, da, f]$\n",
    "\n",
    "## Reward\n",
    "The reward function is sparse. Every step agent gets a reward of 0 and in the last step if the object is .2 above height the reward would be 1 and 0 otherwise\n"
   ],
   "cell_type": "markdown",
   "metadata": {}
  },
  {
   "cell_type": "code",
   "execution_count": 2,
   "metadata": {},
   "outputs": [
    {
     "output_type": "execute_result",
     "data": {
      "text/plain": [
       "(48, 48, 3)"
      ]
     },
     "metadata": {},
     "execution_count": 2
    }
   ],
   "source": [
    "## create the environment and connect to the physics server\n",
    "env = KukaDiverseObjectEnv(renders=False, isDiscrete=True, removeHeightHack=False, maxSteps=20)\n",
    "env.cid = p.connect(p.DIRECT)\n",
    "state = env.reset()\n",
    "state.shape"
   ]
  },
  {
   "cell_type": "code",
   "execution_count": 3,
   "metadata": {},
   "outputs": [],
   "source": [
    "# ## play random steps and see how it works\n",
    "# random_action = np.random.randint(0,6)\n",
    "# reward_list = list()\n",
    "# #for _ in range(1000):\n",
    "# while True:\n",
    "#     next_state, reward, done, _ = env.step(action=random_action)\n",
    "#     #print(a[3])\n",
    "#     reward_list.append(reward)\n",
    "#     if done:\n",
    "#         #print(reward_list)\n",
    "#         reward_list = list()\n",
    "#         env.reset()"
   ]
  },
  {
   "cell_type": "code",
   "execution_count": 4,
   "metadata": {},
   "outputs": [],
   "source": [
    "## get an observation from the camera thats looking at the manipulator end effector\n",
    "def get_observation():\n",
    "    obs = env._get_observation()#.transpose(2, 0, 1)\n",
    "    #print(obs.shape)\n",
    "    return obs"
   ]
  },
  {
   "cell_type": "code",
   "execution_count": 5,
   "metadata": {},
   "outputs": [
    {
     "output_type": "execute_result",
     "data": {
      "text/plain": [
       "<matplotlib.image.AxesImage at 0x7f54900e20d0>"
      ]
     },
     "metadata": {},
     "execution_count": 5
    },
    {
     "output_type": "display_data",
     "data": {
      "text/plain": "<Figure size 432x288 with 1 Axes>",
      "image/svg+xml": "<?xml version=\"1.0\" encoding=\"utf-8\" standalone=\"no\"?>\n<!DOCTYPE svg PUBLIC \"-//W3C//DTD SVG 1.1//EN\"\n  \"http://www.w3.org/Graphics/SVG/1.1/DTD/svg11.dtd\">\n<!-- Created with matplotlib (https://matplotlib.org/) -->\n<svg height=\"250.052344pt\" version=\"1.1\" viewBox=\"0 0 251.565 250.052344\" width=\"251.565pt\" xmlns=\"http://www.w3.org/2000/svg\" xmlns:xlink=\"http://www.w3.org/1999/xlink\">\n <metadata>\n  <rdf:RDF xmlns:cc=\"http://creativecommons.org/ns#\" xmlns:dc=\"http://purl.org/dc/elements/1.1/\" xmlns:rdf=\"http://www.w3.org/1999/02/22-rdf-syntax-ns#\">\n   <cc:Work>\n    <dc:type rdf:resource=\"http://purl.org/dc/dcmitype/StillImage\"/>\n    <dc:date>2020-12-17T13:55:57.174833</dc:date>\n    <dc:format>image/svg+xml</dc:format>\n    <dc:creator>\n     <cc:Agent>\n      <dc:title>Matplotlib v3.3.3, https://matplotlib.org/</dc:title>\n     </cc:Agent>\n    </dc:creator>\n   </cc:Work>\n  </rdf:RDF>\n </metadata>\n <defs>\n  <style type=\"text/css\">*{stroke-linecap:butt;stroke-linejoin:round;}</style>\n </defs>\n <g id=\"figure_1\">\n  <g id=\"patch_1\">\n   <path d=\"M 0 250.052344 \nL 251.565 250.052344 \nL 251.565 0 \nL 0 0 \nz\n\" style=\"fill:none;\"/>\n  </g>\n  <g id=\"axes_1\">\n   <g id=\"patch_2\">\n    <path d=\"M 26.925 226.174219 \nL 244.365 226.174219 \nL 244.365 8.734219 \nL 26.925 8.734219 \nz\n\" style=\"fill:#ffffff;\"/>\n   </g>\n   <g clip-path=\"url(#pc61a830061)\">\n    <image height=\"218\" id=\"image24ed16513e\" transform=\"scale(1 -1)translate(0 -218)\" width=\"218\" x=\"26.925\" xlink:href=\"data:image/png;base64,\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\" y=\"-8.174219\"/>\n   </g>\n   <g id=\"matplotlib.axis_1\">\n    <g id=\"xtick_1\">\n     <g id=\"line2d_1\">\n      <defs>\n       <path d=\"M 0 0 \nL 0 3.5 \n\" id=\"m47e1ff361a\" style=\"stroke:#000000;stroke-width:0.8;\"/>\n      </defs>\n      <g>\n       <use style=\"stroke:#000000;stroke-width:0.8;\" x=\"29.19\" xlink:href=\"#m47e1ff361a\" y=\"226.174219\"/>\n      </g>\n     </g>\n     <g id=\"text_1\">\n      <!-- 0 -->\n      <g transform=\"translate(26.00875 240.772656)scale(0.1 -0.1)\">\n       <defs>\n        <path d=\"M 31.78125 66.40625 \nQ 24.171875 66.40625 20.328125 58.90625 \nQ 16.5 51.421875 16.5 36.375 \nQ 16.5 21.390625 20.328125 13.890625 \nQ 24.171875 6.390625 31.78125 6.390625 \nQ 39.453125 6.390625 43.28125 13.890625 \nQ 47.125 21.390625 47.125 36.375 \nQ 47.125 51.421875 43.28125 58.90625 \nQ 39.453125 66.40625 31.78125 66.40625 \nz\nM 31.78125 74.21875 \nQ 44.046875 74.21875 50.515625 64.515625 \nQ 56.984375 54.828125 56.984375 36.375 \nQ 56.984375 17.96875 50.515625 8.265625 \nQ 44.046875 -1.421875 31.78125 -1.421875 \nQ 19.53125 -1.421875 13.0625 8.265625 \nQ 6.59375 17.96875 6.59375 36.375 \nQ 6.59375 54.828125 13.0625 64.515625 \nQ 19.53125 74.21875 31.78125 74.21875 \nz\n\" id=\"DejaVuSans-48\"/>\n       </defs>\n       <use xlink:href=\"#DejaVuSans-48\"/>\n      </g>\n     </g>\n    </g>\n    <g id=\"xtick_2\">\n     <g id=\"line2d_2\">\n      <g>\n       <use style=\"stroke:#000000;stroke-width:0.8;\" x=\"74.49\" xlink:href=\"#m47e1ff361a\" y=\"226.174219\"/>\n      </g>\n     </g>\n     <g id=\"text_2\">\n      <!-- 10 -->\n      <g transform=\"translate(68.1275 240.772656)scale(0.1 -0.1)\">\n       <defs>\n        <path d=\"M 12.40625 8.296875 \nL 28.515625 8.296875 \nL 28.515625 63.921875 \nL 10.984375 60.40625 \nL 10.984375 69.390625 \nL 28.421875 72.90625 \nL 38.28125 72.90625 \nL 38.28125 8.296875 \nL 54.390625 8.296875 \nL 54.390625 0 \nL 12.40625 0 \nz\n\" id=\"DejaVuSans-49\"/>\n       </defs>\n       <use xlink:href=\"#DejaVuSans-49\"/>\n       <use x=\"63.623047\" xlink:href=\"#DejaVuSans-48\"/>\n      </g>\n     </g>\n    </g>\n    <g id=\"xtick_3\">\n     <g id=\"line2d_3\">\n      <g>\n       <use style=\"stroke:#000000;stroke-width:0.8;\" x=\"119.79\" xlink:href=\"#m47e1ff361a\" y=\"226.174219\"/>\n      </g>\n     </g>\n     <g id=\"text_3\">\n      <!-- 20 -->\n      <g transform=\"translate(113.4275 240.772656)scale(0.1 -0.1)\">\n       <defs>\n        <path d=\"M 19.1875 8.296875 \nL 53.609375 8.296875 \nL 53.609375 0 \nL 7.328125 0 \nL 7.328125 8.296875 \nQ 12.9375 14.109375 22.625 23.890625 \nQ 32.328125 33.6875 34.8125 36.53125 \nQ 39.546875 41.84375 41.421875 45.53125 \nQ 43.3125 49.21875 43.3125 52.78125 \nQ 43.3125 58.59375 39.234375 62.25 \nQ 35.15625 65.921875 28.609375 65.921875 \nQ 23.96875 65.921875 18.8125 64.3125 \nQ 13.671875 62.703125 7.8125 59.421875 \nL 7.8125 69.390625 \nQ 13.765625 71.78125 18.9375 73 \nQ 24.125 74.21875 28.421875 74.21875 \nQ 39.75 74.21875 46.484375 68.546875 \nQ 53.21875 62.890625 53.21875 53.421875 \nQ 53.21875 48.921875 51.53125 44.890625 \nQ 49.859375 40.875 45.40625 35.40625 \nQ 44.1875 33.984375 37.640625 27.21875 \nQ 31.109375 20.453125 19.1875 8.296875 \nz\n\" id=\"DejaVuSans-50\"/>\n       </defs>\n       <use xlink:href=\"#DejaVuSans-50\"/>\n       <use x=\"63.623047\" xlink:href=\"#DejaVuSans-48\"/>\n      </g>\n     </g>\n    </g>\n    <g id=\"xtick_4\">\n     <g id=\"line2d_4\">\n      <g>\n       <use style=\"stroke:#000000;stroke-width:0.8;\" x=\"165.09\" xlink:href=\"#m47e1ff361a\" y=\"226.174219\"/>\n      </g>\n     </g>\n     <g id=\"text_4\">\n      <!-- 30 -->\n      <g transform=\"translate(158.7275 240.772656)scale(0.1 -0.1)\">\n       <defs>\n        <path d=\"M 40.578125 39.3125 \nQ 47.65625 37.796875 51.625 33 \nQ 55.609375 28.21875 55.609375 21.1875 \nQ 55.609375 10.40625 48.1875 4.484375 \nQ 40.765625 -1.421875 27.09375 -1.421875 \nQ 22.515625 -1.421875 17.65625 -0.515625 \nQ 12.796875 0.390625 7.625 2.203125 \nL 7.625 11.71875 \nQ 11.71875 9.328125 16.59375 8.109375 \nQ 21.484375 6.890625 26.8125 6.890625 \nQ 36.078125 6.890625 40.9375 10.546875 \nQ 45.796875 14.203125 45.796875 21.1875 \nQ 45.796875 27.640625 41.28125 31.265625 \nQ 36.765625 34.90625 28.71875 34.90625 \nL 20.21875 34.90625 \nL 20.21875 43.015625 \nL 29.109375 43.015625 \nQ 36.375 43.015625 40.234375 45.921875 \nQ 44.09375 48.828125 44.09375 54.296875 \nQ 44.09375 59.90625 40.109375 62.90625 \nQ 36.140625 65.921875 28.71875 65.921875 \nQ 24.65625 65.921875 20.015625 65.03125 \nQ 15.375 64.15625 9.8125 62.3125 \nL 9.8125 71.09375 \nQ 15.4375 72.65625 20.34375 73.4375 \nQ 25.25 74.21875 29.59375 74.21875 \nQ 40.828125 74.21875 47.359375 69.109375 \nQ 53.90625 64.015625 53.90625 55.328125 \nQ 53.90625 49.265625 50.4375 45.09375 \nQ 46.96875 40.921875 40.578125 39.3125 \nz\n\" id=\"DejaVuSans-51\"/>\n       </defs>\n       <use xlink:href=\"#DejaVuSans-51\"/>\n       <use x=\"63.623047\" xlink:href=\"#DejaVuSans-48\"/>\n      </g>\n     </g>\n    </g>\n    <g id=\"xtick_5\">\n     <g id=\"line2d_5\">\n      <g>\n       <use style=\"stroke:#000000;stroke-width:0.8;\" x=\"210.39\" xlink:href=\"#m47e1ff361a\" y=\"226.174219\"/>\n      </g>\n     </g>\n     <g id=\"text_5\">\n      <!-- 40 -->\n      <g transform=\"translate(204.0275 240.772656)scale(0.1 -0.1)\">\n       <defs>\n        <path d=\"M 37.796875 64.3125 \nL 12.890625 25.390625 \nL 37.796875 25.390625 \nz\nM 35.203125 72.90625 \nL 47.609375 72.90625 \nL 47.609375 25.390625 \nL 58.015625 25.390625 \nL 58.015625 17.1875 \nL 47.609375 17.1875 \nL 47.609375 0 \nL 37.796875 0 \nL 37.796875 17.1875 \nL 4.890625 17.1875 \nL 4.890625 26.703125 \nz\n\" id=\"DejaVuSans-52\"/>\n       </defs>\n       <use xlink:href=\"#DejaVuSans-52\"/>\n       <use x=\"63.623047\" xlink:href=\"#DejaVuSans-48\"/>\n      </g>\n     </g>\n    </g>\n   </g>\n   <g id=\"matplotlib.axis_2\">\n    <g id=\"ytick_1\">\n     <g id=\"line2d_6\">\n      <defs>\n       <path d=\"M 0 0 \nL -3.5 0 \n\" id=\"m2925c5bc9d\" style=\"stroke:#000000;stroke-width:0.8;\"/>\n      </defs>\n      <g>\n       <use style=\"stroke:#000000;stroke-width:0.8;\" x=\"26.925\" xlink:href=\"#m2925c5bc9d\" y=\"10.999219\"/>\n      </g>\n     </g>\n     <g id=\"text_6\">\n      <!-- 0 -->\n      <g transform=\"translate(13.5625 14.798437)scale(0.1 -0.1)\">\n       <use xlink:href=\"#DejaVuSans-48\"/>\n      </g>\n     </g>\n    </g>\n    <g id=\"ytick_2\">\n     <g id=\"line2d_7\">\n      <g>\n       <use style=\"stroke:#000000;stroke-width:0.8;\" x=\"26.925\" xlink:href=\"#m2925c5bc9d\" y=\"56.299219\"/>\n      </g>\n     </g>\n     <g id=\"text_7\">\n      <!-- 10 -->\n      <g transform=\"translate(7.2 60.098437)scale(0.1 -0.1)\">\n       <use xlink:href=\"#DejaVuSans-49\"/>\n       <use x=\"63.623047\" xlink:href=\"#DejaVuSans-48\"/>\n      </g>\n     </g>\n    </g>\n    <g id=\"ytick_3\">\n     <g id=\"line2d_8\">\n      <g>\n       <use style=\"stroke:#000000;stroke-width:0.8;\" x=\"26.925\" xlink:href=\"#m2925c5bc9d\" y=\"101.599219\"/>\n      </g>\n     </g>\n     <g id=\"text_8\">\n      <!-- 20 -->\n      <g transform=\"translate(7.2 105.398437)scale(0.1 -0.1)\">\n       <use xlink:href=\"#DejaVuSans-50\"/>\n       <use x=\"63.623047\" xlink:href=\"#DejaVuSans-48\"/>\n      </g>\n     </g>\n    </g>\n    <g id=\"ytick_4\">\n     <g id=\"line2d_9\">\n      <g>\n       <use style=\"stroke:#000000;stroke-width:0.8;\" x=\"26.925\" xlink:href=\"#m2925c5bc9d\" y=\"146.899219\"/>\n      </g>\n     </g>\n     <g id=\"text_9\">\n      <!-- 30 -->\n      <g transform=\"translate(7.2 150.698437)scale(0.1 -0.1)\">\n       <use xlink:href=\"#DejaVuSans-51\"/>\n       <use x=\"63.623047\" xlink:href=\"#DejaVuSans-48\"/>\n      </g>\n     </g>\n    </g>\n    <g id=\"ytick_5\">\n     <g id=\"line2d_10\">\n      <g>\n       <use style=\"stroke:#000000;stroke-width:0.8;\" x=\"26.925\" xlink:href=\"#m2925c5bc9d\" y=\"192.199219\"/>\n      </g>\n     </g>\n     <g id=\"text_10\">\n      <!-- 40 -->\n      <g transform=\"translate(7.2 195.998437)scale(0.1 -0.1)\">\n       <use xlink:href=\"#DejaVuSans-52\"/>\n       <use x=\"63.623047\" xlink:href=\"#DejaVuSans-48\"/>\n      </g>\n     </g>\n    </g>\n   </g>\n   <g id=\"patch_3\">\n    <path d=\"M 26.925 226.174219 \nL 26.925 8.734219 \n\" style=\"fill:none;stroke:#000000;stroke-linecap:square;stroke-linejoin:miter;stroke-width:0.8;\"/>\n   </g>\n   <g id=\"patch_4\">\n    <path d=\"M 244.365 226.174219 \nL 244.365 8.734219 \n\" style=\"fill:none;stroke:#000000;stroke-linecap:square;stroke-linejoin:miter;stroke-width:0.8;\"/>\n   </g>\n   <g id=\"patch_5\">\n    <path d=\"M 26.925 226.174219 \nL 244.365 226.174219 \n\" style=\"fill:none;stroke:#000000;stroke-linecap:square;stroke-linejoin:miter;stroke-width:0.8;\"/>\n   </g>\n   <g id=\"patch_6\">\n    <path d=\"M 26.925 8.734219 \nL 244.365 8.734219 \n\" style=\"fill:none;stroke:#000000;stroke-linecap:square;stroke-linejoin:miter;stroke-width:0.8;\"/>\n   </g>\n  </g>\n </g>\n <defs>\n  <clipPath id=\"pc61a830061\">\n   <rect height=\"217.44\" width=\"217.44\" x=\"26.925\" y=\"8.734219\"/>\n  </clipPath>\n </defs>\n</svg>\n",
      "image/png": "[encoded data removed]"
     },
     "metadata": {
      "needs_background": "light"
     }
    }
   ],
   "source": [
    "## The initial observation\n",
    "plt.imshow(get_observation())"
   ]
  },
  {
   "source": [
    "# Memory Buffer\n",
    "\n",
    "A memory buffer is implemented to store the $(s, a, r, s')$ tuple so that once the buffer is filled enough the agent can sample data from the buffer and use an off-policy method to train on them.\n",
    "\n",
    "The buffer is implemented using a deque. A deque has a capacity and when the duffer is filled, it will pop the oldes element to facilitate the newest element. \n",
    "\n",
    "the push method of the class adds new elements to the buffer and sample method randomly sample a set of buffer elements (number of elements to be sampled is defined using a batch size)"
   ],
   "cell_type": "markdown",
   "metadata": {}
  },
  {
   "cell_type": "code",
   "execution_count": 6,
   "metadata": {},
   "outputs": [],
   "source": [
    "class ReplayBuffer:\n",
    "    ## initialize the buffer\n",
    "    def __init__(self, max_len):\n",
    "        self.buffer = deque(maxlen=max_len)\n",
    "\n",
    "    ## get buffer length\n",
    "    def __len__(self):\n",
    "        return len(self.buffer)\n",
    "\n",
    "    ## append a sample of data to the buffer\n",
    "    def push(self, experiance):\n",
    "        self.buffer.append(experiance)\n",
    "    \n",
    "    ## sample data from the buffer\n",
    "    def sample(self, batch_size):\n",
    "        ## get a set of samples randomly\n",
    "        batch_idx = np.random.choice(len(self.buffer), batch_size)\n",
    "        state, action, reward, new_state = zip(*[self.buffer[idx] for idx in batch_idx])\n",
    "        \n",
    "        ## convert the state and new_state deques to a tensor\n",
    "        ## converting the list to np array is a must, otherwise it\n",
    "        ## introduces a bottleneck in performances\n",
    "        state = torch.squeeze(torch.FloatTensor(np.array([state])), 0).to(device)\n",
    "        new_state = torch.squeeze(torch.FloatTensor(np.array([new_state])), 0).to(device)\n",
    "\n",
    "        ## convert the action batch to a tensor so it can gather\n",
    "        action = torch.unsqueeze(torch.tensor(action), dim=1).to(device)\n",
    "\n",
    "        ## convert rewards to tensor for bellman calculation\n",
    "        reward = torch.tensor(reward).to(device)\n",
    "        \n",
    "        return state, action, reward, new_state"
   ]
  },
  {
   "source": [
    "# Agent\n",
    "\n",
    "The agent class has two major attributes, the policy network and the environment. When given an epislon value, the agent will perform either a random action (exploration) or an optimal action (exploitation) on the environment\n",
    "\n",
    "the job of the agent as follows\n",
    "* agent should perform an action\n",
    "* When the action is from policy network, it is considered that the action belongs to the optimal policy $\\pi^*(s) = \\arg\\!\\max_a \\ Q^*(s, a)$\n",
    "* agent should keep track of total reward for each episode so we know if the agent improves or not\n",
    "* To optimise the policy network the predicted $Q(s,a)$ is compared against a true $Q_{true}(s,a)$. The $Q_{true}(s,a)$ is computed using the reward obtained from the environment and the target network (an old copy of the policy network)\n",
    "\\begin{align} Q_{true}(s,a) = r + \\gamma max_{a} \\hat Q(s',a')\\end{align}\n",
    "* Once the true labels of the Q function is computed, the estimated $Q(s,a)$ can be found using the temporal difference $\\delta$\n",
    "\\begin{align}\\delta = Q(s,a) - (r + \\gamma max_{a} \\hat Q(s',a')\\end{align}\n",
    "* Mean Squred Error is used as the loss function $L(\\delta)$\n",
    "* Finally the policy network can be optimized using one of the optimization algorithms (e.g. SGD, Adam, RMSprop)"
   ],
   "cell_type": "markdown",
   "metadata": {}
  },
  {
   "cell_type": "code",
   "execution_count": 7,
   "metadata": {},
   "outputs": [],
   "source": [
    "class Agent:\n",
    "    ## Initialize the agent\n",
    "    def __init__(self, policy_net, env):\n",
    "        ## keep track of frames for debugging\n",
    "        self.step_counter = 0\n",
    "        self.policy_net = policy_net\n",
    "        self.env = env\n",
    "        self.total_reward = 0.0\n",
    "        self.env.reset()\n",
    "\n",
    "    ## play a step\n",
    "    def play_step(self, state, epsilon):\n",
    "        done_reward = None\n",
    "        ## increment the step counter\n",
    "        self.step_counter += 1\n",
    "        rnd = random.random()\n",
    "        if rnd > epsilon:\n",
    "            state = torch.unsqueeze(state, 0).to(device)\n",
    "            #print(state.size())\n",
    "            action = self.policy_net(state).max(1)[1].view(1,1)\n",
    "            action = action.item()\n",
    "        else:\n",
    "            #print(\"random\")\n",
    "            action = self.env.action_space.sample()\n",
    "        \n",
    "        new_state, reward, is_done, _ = self.env.step(action)\n",
    "        self.total_reward += reward\n",
    "        ## check if the episode has ended\n",
    "        if is_done:\n",
    "            done_reward = self.total_reward\n",
    "            self.total_reward = 0.0\n",
    "\n",
    "        return action, done_reward, reward, new_state, is_done\n",
    "\n",
    "    def compute_loss(self, tgt_net, batch):\n",
    "        ## unpack the databatch\n",
    "        state, action, reward, new_state = batch\n",
    "\n",
    "        ## convert the state and new_state deques to a tensor\n",
    "        ## converting the list to np array is a must, otherwise it\n",
    "        ## introduces a bottleneck in performances\n",
    "\n",
    "        ##to compute the loss we need Q(s,a) and Q(s`,a`)\n",
    "        ## first get the Q(s,a) from the policy network\n",
    "        ## then gather the values corresponds to target actions from the memory\n",
    "        action_q_value = self.policy_net(state) \\\n",
    "                                            .gather(1, action.to(device)).squeeze(1)\n",
    "        #print(action_q_value)\n",
    "\n",
    "        ## Now find the Q(s`, a`)\n",
    "        ## for this first we need to filter the done states\n",
    "        non_final_mask = torch.tensor(tuple(map(lambda s: s is not None, new_state)))\n",
    "        non_final_new_states = new_state[non_final_mask]\n",
    "        ## now we use the target net and non final next state batch to get Q(s`, a`)\n",
    "        ## detach the tensor from the graph to prevent gradients flowing to the\n",
    "        ## target network\n",
    "        next_state_q_value = torch.zeros(BATCH_SIZE, dtype=torch.float, device=device)\n",
    "        next_state_q_value[non_final_mask] = tgt_net(non_final_new_states) \\\n",
    "                                                        .max(1)[0].detach()\n",
    "        ## now find the Q(s,a)_target using bellman equation\n",
    "        expected_q_value = reward + GAMMA * next_state_q_value\n",
    "        \n",
    "        ## compute the MSE loss\n",
    "        loss = nn.SmoothL1Loss()(action_q_value, expected_q_value)\n",
    "        return loss\n",
    "\n",
    "    def optimize(self, optimizer, batch, tgt_net):\n",
    "        ## init the optimizer\n",
    "        ## we do this to prevent the gradients of one minibactch flowing\n",
    "        ## to the next minibatch (pytorch accumilates gradients within a minibatch\n",
    "        ## when you call loss.backward())\n",
    "        optimizer.zero_grad()\n",
    "        ## compute the loss\n",
    "        loss = self.compute_loss(tgt_net, batch)\n",
    "        ## compute gradients\n",
    "        loss.backward()\n",
    "        ## update parameters\n",
    "        optimizer.step()\n",
    "\n",
    "        ## return loss for monitoring\n",
    "        return loss.item()"
   ]
  },
  {
   "cell_type": "code",
   "execution_count": 8,
   "metadata": {},
   "outputs": [],
   "source": [
    "## GLOBALS\n",
    "STACK_SIZE = 5\n",
    "NUM_EPISODES = 100\n",
    "\n",
    "MEAN_REWARD_BOUND = 50.0\n",
    "\n",
    "GAMMA = 0.99\n",
    "BATCH_SIZE = 32\n",
    "REPLAY_SIZE = 10000\n",
    "LEARNING_RATE = 1e-4\n",
    "SYNC_TARGET_FRAMES = 500 #150#1000\n",
    "REPLAY_START_SIZE = BATCH_SIZE\n",
    "\n",
    "EPSILON_DECAY_LAST_FRAME = 10**4#10**5\n",
    "EPSILON_START = 0.9 #1.0\n",
    "EPSILON_FINAL = 0.1\n",
    "\n",
    "MODEL_PATH = './models/kuka_2'\n",
    "MODEL_NAME = 'kuka_policy_net.pt'\n",
    "device = 'cuda'"
   ]
  },
  {
   "cell_type": "code",
   "execution_count": 9,
   "metadata": {},
   "outputs": [],
   "source": [
    "## init a replay buffer\n",
    "memory_buffer = ReplayBuffer(REPLAY_SIZE)\n",
    "\n",
    "## init the DQN networks (both policy and target nets)\n",
    "input_shape = [STACK_SIZE, 48, 48]\n",
    "#print(input_shape)\n",
    "policy_net = dqn_model.DQN(input_shape, env.action_space.n).to(device)\n",
    "target_net = dqn_model.DQN(input_shape, env.action_space.n).to(device)\n",
    "## copy the policy net weights to target net\n",
    "target_net.load_state_dict(policy_net.state_dict())\n",
    "\n",
    "## define the optimizer\n",
    "optimizer = optim.Adam(policy_net.parameters(), lr=LEARNING_RATE)\n",
    "\n",
    "## init an agent\n",
    "agent_dqn = Agent(policy_net, env)\n",
    "\n",
    "## reward vars\n",
    "ten_rewards = 0.0 ## reward for 10 episodes\n",
    "total_rewards = list() ## total \n",
    "best_mean_reward = None\n",
    "update_counter = 0"
   ]
  },
  {
   "cell_type": "code",
   "execution_count": 10,
   "metadata": {},
   "outputs": [],
   "source": [
    "## convert a RGB image to gray and min max normalize them\n",
    "def convert_to_gray(color_state):\n",
    "    return cv2.cvtColor(color_state, cv2.COLOR_BGR2GRAY) / 255.0"
   ]
  },
  {
   "cell_type": "code",
   "execution_count": 11,
   "metadata": {},
   "outputs": [
    {
     "output_type": "stream",
     "name": "stdout",
     "text": [
      "Best mean reward: 0.0\n",
      "Best mean reward: 20.0\n",
      "Best mean reward: 25.0\n",
      "Best mean reward: 33.33333333333333\n",
      "Best mean reward: 34.0\n",
      "Best mean reward: 35.0\n",
      "Best mean reward: 36.0\n",
      "Best mean reward: 37.0\n",
      "Best mean reward: 38.0\n",
      "Best mean reward: 39.0\n",
      "Best mean reward: 40.0\n",
      "Best mean reward: 41.0\n",
      "Best mean reward: 42.0\n",
      "Best mean reward: 43.0\n",
      "Best mean reward: 44.0\n",
      "Best mean reward: 45.0\n",
      "Best mean reward: 46.0\n",
      "Best mean reward: 47.0\n",
      "Best mean reward: 48.0\n",
      "Best mean reward: 49.0\n",
      "Best mean reward: 50.0\n",
      "Best mean reward: 51.0\n",
      "Environment solved in 2241 episodes!\tAverage Score: 51.00\n"
     ]
    }
   ],
   "source": [
    "while True:\n",
    "    update_counter += 1\n",
    "    ## get the training loss for an episode\n",
    "    episode_loss = list()\n",
    "    current_state = env.reset()\n",
    "    ## convert to gray scale\n",
    "    current_state = convert_to_gray(current_state)\n",
    "    ## deq the initial frames as a stak defined by STACK_SIZE\n",
    "    current_state_stack = deque([current_state] * STACK_SIZE, maxlen=STACK_SIZE)\n",
    "    \n",
    "    while True:\n",
    "        ## Do the epsilon decay\n",
    "        epsilon = max(EPSILON_FINAL, EPSILON_START - update_counter / EPSILON_DECAY_LAST_FRAME)\n",
    "        current_state_tensor = torch.FloatTensor(current_state_stack)\n",
    "        ## let the agent take an action\n",
    "        action, done_reward, reward, _, is_done = agent_dqn.play_step(\n",
    "                                                            current_state_tensor, epsilon)\n",
    "        new_state = get_observation()\n",
    "        if not is_done:\n",
    "            ## make new state stack from the current states\n",
    "            new_state_stack = current_state_stack\n",
    "            ## add the new state as the last element in the stack\n",
    "            ## so the stack now pops the oldest element\n",
    "            new_state_stack.append(convert_to_gray(new_state))\n",
    "            ## update the buffer\n",
    "            memory_buffer.push((current_state_stack, action, reward, new_state_stack))\n",
    "        else:\n",
    "            new_state_stack = None\n",
    "        \n",
    "        if done_reward is not None:\n",
    "            total_rewards.append(done_reward)\n",
    "            #print(reward)\n",
    "            mean_reward = np.mean(total_rewards[-100:]) * 100.0\n",
    "            num_played_games = len(total_rewards)\n",
    "            if best_mean_reward is None or best_mean_reward < mean_reward:\n",
    "                ## update the best mean reward\n",
    "                best_mean_reward = mean_reward\n",
    "                if best_mean_reward is not None:\n",
    "                    print(\"Best mean reward: {}\".format(best_mean_reward))\n",
    "                    SAVE_PATH = os.path.join(MODEL_PATH, str(num_played_games)+'_'+MODEL_NAME)  \n",
    "                    torch.save(policy_net.state_dict(), SAVE_PATH)\n",
    "            break\n",
    "\n",
    "        ## make the current state the new state\n",
    "        current_state_stack = new_state_stack\n",
    "        ## check if we have enough data in the memory buffer\n",
    "        if len(memory_buffer) < REPLAY_START_SIZE:\n",
    "            continue\n",
    "        \n",
    "        ## if there are enough data we sample a batch\n",
    "        train_batch = memory_buffer.sample(BATCH_SIZE)\n",
    "        loss = agent_dqn.optimize(optimizer, train_batch, target_net)\n",
    "        episode_loss.append(loss)\n",
    "\n",
    "        ## We update the target net at each SYNC_TARGET_FRAMES\n",
    "        if update_counter % SYNC_TARGET_FRAMES == 0:\n",
    "            target_net.load_state_dict(policy_net.state_dict())\n",
    "        \n",
    "    if best_mean_reward>50:\n",
    "        print('Environment solved in {:d} episodes!\\tAverage Score: {:.2f}'.format(\n",
    "                                                update_counter+1, best_mean_reward))\n",
    "        break"
   ]
  }
 ]
}